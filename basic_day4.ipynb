{
 "cells": [
  {
   "cell_type": "code",
   "execution_count": 1,
   "id": "7780452f",
   "metadata": {},
   "outputs": [],
   "source": [
    "def square(x):\n",
    "    return x**2"
   ]
  },
  {
   "cell_type": "code",
   "execution_count": 2,
   "id": "551e7b2e",
   "metadata": {},
   "outputs": [
    {
     "data": {
      "text/plain": [
       "81"
      ]
     },
     "execution_count": 2,
     "metadata": {},
     "output_type": "execute_result"
    }
   ],
   "source": [
    "square(9)"
   ]
  },
  {
   "cell_type": "code",
   "execution_count": 3,
   "id": "5d90e918",
   "metadata": {},
   "outputs": [],
   "source": [
    "x=lambda x: x**2"
   ]
  },
  {
   "cell_type": "code",
   "execution_count": 5,
   "id": "0c25fc69",
   "metadata": {},
   "outputs": [
    {
     "data": {
      "text/plain": [
       "10000"
      ]
     },
     "execution_count": 5,
     "metadata": {},
     "output_type": "execute_result"
    }
   ],
   "source": [
    "x(100)"
   ]
  },
  {
   "cell_type": "code",
   "execution_count": 7,
   "id": "37136891",
   "metadata": {},
   "outputs": [
    {
     "data": {
      "text/plain": [
       "[4, 16, 25, 36, 64, 81, 100]"
      ]
     },
     "execution_count": 7,
     "metadata": {},
     "output_type": "execute_result"
    }
   ],
   "source": [
    "list(map(square,(2,4,5,6,8,9,10)))"
   ]
  },
  {
   "cell_type": "code",
   "execution_count": 8,
   "id": "f2980955",
   "metadata": {},
   "outputs": [
    {
     "data": {
      "text/plain": [
       "['PYTHON', 'IS', 'FUN']"
      ]
     },
     "execution_count": 8,
     "metadata": {},
     "output_type": "execute_result"
    }
   ],
   "source": [
    "list(map(str.upper,['python','is','fun']))"
   ]
  },
  {
   "cell_type": "code",
   "execution_count": 10,
   "id": "4b1a07e6",
   "metadata": {},
   "outputs": [
    {
     "name": "stdout",
     "output_type": "stream",
     "text": [
      "PYTHON\n",
      "IS\n",
      "FUN\n"
     ]
    }
   ],
   "source": [
    "for w in ['python','is','fun']:\n",
    "    print(w.upper())"
   ]
  },
  {
   "cell_type": "code",
   "execution_count": 11,
   "id": "19186f28",
   "metadata": {},
   "outputs": [],
   "source": [
    "def fun():\n",
    "    x1=4\n",
    "    print(x1)"
   ]
  },
  {
   "cell_type": "code",
   "execution_count": 12,
   "id": "0a92bc03",
   "metadata": {},
   "outputs": [
    {
     "name": "stdout",
     "output_type": "stream",
     "text": [
      "4\n"
     ]
    }
   ],
   "source": [
    "fun()"
   ]
  },
  {
   "cell_type": "code",
   "execution_count": 13,
   "id": "963895eb",
   "metadata": {},
   "outputs": [
    {
     "ename": "NameError",
     "evalue": "name 'x1' is not defined",
     "output_type": "error",
     "traceback": [
      "\u001b[1;31m---------------------------------------------------------------------------\u001b[0m",
      "\u001b[1;31mNameError\u001b[0m                                 Traceback (most recent call last)",
      "\u001b[1;32mC:\\Users\\PRITIG~1\\AppData\\Local\\Temp/ipykernel_5732/3390362861.py\u001b[0m in \u001b[0;36m<module>\u001b[1;34m\u001b[0m\n\u001b[1;32m----> 1\u001b[1;33m \u001b[0mx1\u001b[0m\u001b[1;33m\u001b[0m\u001b[1;33m\u001b[0m\u001b[0m\n\u001b[0m",
      "\u001b[1;31mNameError\u001b[0m: name 'x1' is not defined"
     ]
    }
   ],
   "source": [
    "x1"
   ]
  },
  {
   "cell_type": "code",
   "execution_count": 14,
   "id": "71767f76",
   "metadata": {},
   "outputs": [],
   "source": [
    "def fun():\n",
    "    global x1\n",
    "    x1=4\n",
    "    print(x1)"
   ]
  },
  {
   "cell_type": "code",
   "execution_count": 15,
   "id": "e0693a59",
   "metadata": {},
   "outputs": [
    {
     "name": "stdout",
     "output_type": "stream",
     "text": [
      "4\n"
     ]
    }
   ],
   "source": [
    "fun()"
   ]
  },
  {
   "cell_type": "code",
   "execution_count": 16,
   "id": "262f259a",
   "metadata": {},
   "outputs": [
    {
     "data": {
      "text/plain": [
       "4"
      ]
     },
     "execution_count": 16,
     "metadata": {},
     "output_type": "execute_result"
    }
   ],
   "source": [
    "x1"
   ]
  },
  {
   "cell_type": "code",
   "execution_count": 17,
   "id": "4b7c29b0",
   "metadata": {},
   "outputs": [],
   "source": [
    "def outer():\n",
    "    i=10\n",
    "    j=8\n",
    "    def inner():\n",
    "        print(i)\n",
    "        print(\"I am inner function\")\n",
    "    def inner2():\n",
    "        print(\"I am second inner function\")\n",
    "    inner()\n",
    "    inner2()\n",
    "    return inner,inner2"
   ]
  },
  {
   "cell_type": "code",
   "execution_count": 20,
   "id": "04d1ab9a",
   "metadata": {},
   "outputs": [
    {
     "name": "stdout",
     "output_type": "stream",
     "text": [
      "10\n",
      "I am inner function\n",
      "I am second inner function\n"
     ]
    }
   ],
   "source": [
    "p=outer()"
   ]
  },
  {
   "cell_type": "code",
   "execution_count": 19,
   "id": "cc8014fb",
   "metadata": {},
   "outputs": [
    {
     "data": {
      "text/plain": [
       "['__add__',\n",
       " '__class__',\n",
       " '__class_getitem__',\n",
       " '__contains__',\n",
       " '__delattr__',\n",
       " '__dir__',\n",
       " '__doc__',\n",
       " '__eq__',\n",
       " '__format__',\n",
       " '__ge__',\n",
       " '__getattribute__',\n",
       " '__getitem__',\n",
       " '__getnewargs__',\n",
       " '__gt__',\n",
       " '__hash__',\n",
       " '__init__',\n",
       " '__init_subclass__',\n",
       " '__iter__',\n",
       " '__le__',\n",
       " '__len__',\n",
       " '__lt__',\n",
       " '__mul__',\n",
       " '__ne__',\n",
       " '__new__',\n",
       " '__reduce__',\n",
       " '__reduce_ex__',\n",
       " '__repr__',\n",
       " '__rmul__',\n",
       " '__setattr__',\n",
       " '__sizeof__',\n",
       " '__str__',\n",
       " '__subclasshook__',\n",
       " 'count',\n",
       " 'index']"
      ]
     },
     "execution_count": 19,
     "metadata": {},
     "output_type": "execute_result"
    }
   ],
   "source": [
    "dir(p)"
   ]
  },
  {
   "cell_type": "code",
   "execution_count": 21,
   "id": "dddb15f4",
   "metadata": {},
   "outputs": [
    {
     "name": "stdout",
     "output_type": "stream",
     "text": [
      "10\n",
      "I am inner function\n"
     ]
    }
   ],
   "source": [
    "p[0]()"
   ]
  },
  {
   "cell_type": "code",
   "execution_count": 22,
   "id": "30e37149",
   "metadata": {},
   "outputs": [
    {
     "name": "stdout",
     "output_type": "stream",
     "text": [
      "I am second inner function\n"
     ]
    }
   ],
   "source": [
    "p[1]()"
   ]
  },
  {
   "cell_type": "code",
   "execution_count": 23,
   "id": "105b27ac",
   "metadata": {},
   "outputs": [],
   "source": [
    "def outer(f):\n",
    "    def inner():\n",
    "        result= f()\n",
    "        return result**2\n",
    "    return inner"
   ]
  },
  {
   "cell_type": "code",
   "execution_count": 24,
   "id": "29a2e700",
   "metadata": {},
   "outputs": [],
   "source": [
    "def num():\n",
    "    return 5"
   ]
  },
  {
   "cell_type": "code",
   "execution_count": 25,
   "id": "ff4ab2a8",
   "metadata": {},
   "outputs": [],
   "source": [
    "r=outer(num)"
   ]
  },
  {
   "cell_type": "code",
   "execution_count": 26,
   "id": "3891ab22",
   "metadata": {},
   "outputs": [
    {
     "data": {
      "text/plain": [
       "<function __main__.outer.<locals>.inner()>"
      ]
     },
     "execution_count": 26,
     "metadata": {},
     "output_type": "execute_result"
    }
   ],
   "source": [
    "r"
   ]
  },
  {
   "cell_type": "code",
   "execution_count": 27,
   "id": "38169dc2",
   "metadata": {},
   "outputs": [
    {
     "data": {
      "text/plain": [
       "25"
      ]
     },
     "execution_count": 27,
     "metadata": {},
     "output_type": "execute_result"
    }
   ],
   "source": [
    "r()"
   ]
  },
  {
   "cell_type": "code",
   "execution_count": 28,
   "id": "d886bd83",
   "metadata": {},
   "outputs": [],
   "source": [
    "@outer\n",
    "def num():\n",
    "    return 5"
   ]
  },
  {
   "cell_type": "code",
   "execution_count": 29,
   "id": "85c86bfe",
   "metadata": {},
   "outputs": [
    {
     "data": {
      "text/plain": [
       "25"
      ]
     },
     "execution_count": 29,
     "metadata": {},
     "output_type": "execute_result"
    }
   ],
   "source": [
    "num()"
   ]
  },
  {
   "cell_type": "code",
   "execution_count": 30,
   "id": "caeb0c10",
   "metadata": {},
   "outputs": [],
   "source": [
    "def outer(f):\n",
    "    def inner(n1,n2):\n",
    "        result= f(n1,n2)\n",
    "        return result**2\n",
    "    return inner"
   ]
  },
  {
   "cell_type": "code",
   "execution_count": 31,
   "id": "ab4373c4",
   "metadata": {},
   "outputs": [],
   "source": [
    "@outer\n",
    "def num(n1,n2):\n",
    "    return n1+n2+5"
   ]
  },
  {
   "cell_type": "code",
   "execution_count": 32,
   "id": "f78b5025",
   "metadata": {},
   "outputs": [
    {
     "data": {
      "text/plain": [
       "900"
      ]
     },
     "execution_count": 32,
     "metadata": {},
     "output_type": "execute_result"
    }
   ],
   "source": [
    "num(20,5)"
   ]
  },
  {
   "cell_type": "code",
   "execution_count": 2,
   "id": "39e837b8",
   "metadata": {},
   "outputs": [
    {
     "data": {
      "text/plain": [
       "[2, 4, 6, 8, 10]"
      ]
     },
     "execution_count": 2,
     "metadata": {},
     "output_type": "execute_result"
    }
   ],
   "source": [
    "lst_1= [1,2,3,4,5,6,7,8,89,10]\n",
    "list(filter(lambda x: x%2==0, lst_1))"
   ]
  },
  {
   "cell_type": "code",
   "execution_count": 3,
   "id": "6bfab044",
   "metadata": {},
   "outputs": [
    {
     "data": {
      "text/plain": [
       "[1, 8, 27, 64, 125, 216, 343, 512, 729]"
      ]
     },
     "execution_count": 3,
     "metadata": {},
     "output_type": "execute_result"
    }
   ],
   "source": [
    "list_1=[1,2,3,4,5,6,7,8,9]\n",
    "list(map(lambda x: pow(x,3), list_1))"
   ]
  },
  {
   "cell_type": "code",
   "execution_count": 7,
   "id": "98d33b56",
   "metadata": {},
   "outputs": [],
   "source": [
    "#general purpose decorator\n",
    "def a_decorator_passing_arbitary_arguments(function_to_decorator):\n",
    "    def a_wrapper_accepting_arbitary_arguments(*args,**kwargs):\n",
    "        print(\"The positional arguments are\",args)\n",
    "        print(\"The keyword arguments are\", kwargs)\n",
    "        function_to_decorator(*args)\n",
    "    return a_wrapper_accepting_arbitary_arguments\n",
    "\n",
    "@a_decorator_passing_arbitary_arguments\n",
    "def function_with_no_arguments():\n",
    "    print(\"No arguments here......\")\n",
    "    \n",
    "    "
   ]
  },
  {
   "cell_type": "code",
   "execution_count": 8,
   "id": "6c6cd49f",
   "metadata": {},
   "outputs": [
    {
     "name": "stdout",
     "output_type": "stream",
     "text": [
      "The positional arguments are ()\n",
      "The keyword arguments are {}\n",
      "No arguments here......\n"
     ]
    }
   ],
   "source": [
    "function_with_no_arguments()"
   ]
  },
  {
   "cell_type": "code",
   "execution_count": 10,
   "id": "f4c71798",
   "metadata": {},
   "outputs": [
    {
     "name": "stdout",
     "output_type": "stream",
     "text": [
      "The positional arguments are (10, 20, 30)\n",
      "The keyword arguments are {}\n",
      "10 20 30\n"
     ]
    }
   ],
   "source": [
    "#passing positional arguments to decorators\n",
    "def accept_the_arguments(function_to_decorator):\n",
    "    def inner_function(*args,**kwargs):\n",
    "        print(\"The positional arguments are\",args)\n",
    "        print(\"The keyword arguments are\", kwargs)\n",
    "        function_to_decorator(*args)\n",
    "    return inner_function\n",
    "\n",
    "@accept_the_arguments\n",
    "def function_with_args(a,b,c):\n",
    "    print(a,b,c)\n",
    "    \n",
    "function_with_args(10,20,30)\n"
   ]
  },
  {
   "cell_type": "code",
   "execution_count": null,
   "id": "7e535ec9",
   "metadata": {},
   "outputs": [],
   "source": [
    "#passing kwargs based arguments\n",
    "def accept_the_arguments(function_to_decorator):\n",
    "    def inner_function(*args,**kwargs):\n",
    "        print(\"The arguments values \",args)\n",
    "        print(\"The positional args\", kwargs)\n",
    "        #custom logic based function_with_args\n",
    "        function_to_decorator(*args, **kwargs)\n",
    "    return inner_function\n",
    "\n",
    "@accept_the_arguments\n",
    "def function_with_args():\n",
    "    print()\n",
    "    \n",
    "function_with_args(10,20,30)"
   ]
  },
  {
   "cell_type": "code",
   "execution_count": 11,
   "id": "e318b25b",
   "metadata": {},
   "outputs": [],
   "source": [
    "#passing argument to decorator\n",
    "def decorator_with_args(decorator_args1,decorator_args2,decorator_args3):\n",
    "    def decorator(func):\n",
    "        def wrapper(function_args1,function_args2,function_args3):\n",
    "            print(\"The wrapper can access all the variables\\n\"\n",
    "                 \"\\t from the decorator maker:{0} {1} {2}\\n\"\n",
    "                 \"\\t from the function call:{3} {4} {5}\\n\"\n",
    "                 \"and pass them into decorator function\".format(decorator_args1,decorator_args2,\n",
    "                                                               decorator_args3,\n",
    "                                                               decorator_args1,\n",
    "                                                               decorator_args2,\n",
    "                                                               decorator_args3\n",
    "                                                               ))\n",
    "            return func(function_args1,function_args2,function_args3)\n",
    "        return wrapper\n",
    "    return decorator\n",
    "pandas=\"Pandas\"\n",
    "@decorator_with_args(pandas, \"Numpy\", \"Sciki-learn\")\n",
    "def actual_function(function_args1,function_args2,function_args3):\n",
    "    print(\"This is decorator function and it only knows about its args:{0}, {1}, {2}\".format(function_args1,function_args2,function_args3))"
   ]
  },
  {
   "cell_type": "code",
   "execution_count": 12,
   "id": "86a95d36",
   "metadata": {},
   "outputs": [
    {
     "name": "stdout",
     "output_type": "stream",
     "text": [
      "The wrapper can access all the variables\n",
      "\t from the decorator maker:Pandas Numpy Sciki-learn\n",
      "\t from the function call:Pandas Numpy Sciki-learn\n",
      "and pass them into decorator function\n",
      "This is decorator function and it only knows about its args:John, Science, Tools\n"
     ]
    }
   ],
   "source": [
    "actual_function(\"John\",\"Science\",\"Tools\")"
   ]
  },
  {
   "cell_type": "code",
   "execution_count": 13,
   "id": "fa0f424e",
   "metadata": {},
   "outputs": [
    {
     "name": "stdout",
     "output_type": "stream",
     "text": [
      "4\n"
     ]
    }
   ],
   "source": [
    "def count_digit(num):\n",
    "    count = 0\n",
    "    for i in str(num):\n",
    "        count += 1\n",
    "    return count\n",
    "\n",
    "print(count_digit(4564))\n"
   ]
  },
  {
   "cell_type": "code",
   "execution_count": 17,
   "id": "424d89c5",
   "metadata": {},
   "outputs": [
    {
     "name": "stdout",
     "output_type": "stream",
     "text": [
      "x in decor 1st.... 10\n",
      "x in decor2 20\n"
     ]
    },
    {
     "data": {
      "text/plain": [
       "400"
      ]
     },
     "execution_count": 17,
     "metadata": {},
     "output_type": "execute_result"
    }
   ],
   "source": [
    "#chaining of decorator \n",
    "from functools import wraps\n",
    "#code for testing decorator chaining\n",
    "\n",
    "def decor1(func):\n",
    "    def inner():\n",
    "        x= func()\n",
    "        print(\"x in decor2\",x)\n",
    "        return x*x #logic doing nul\n",
    "    return inner\n",
    "def decor(func):\n",
    "    def inner():\n",
    "        x=func()\n",
    "        print(\"x in decor 1st....\",x)\n",
    "        return 2*x #multiply with 2\n",
    "    return inner\n",
    "@decor1\n",
    "@decor\n",
    "def num():\n",
    "    return 10\n",
    "num()"
   ]
  },
  {
   "cell_type": "markdown",
   "id": "473439f7",
   "metadata": {},
   "source": [
    "num()"
   ]
  },
  {
   "cell_type": "code",
   "execution_count": 18,
   "id": "3728ca9e",
   "metadata": {},
   "outputs": [
    {
     "name": "stdout",
     "output_type": "stream",
     "text": [
      "hi\n",
      "hello\n"
     ]
    },
    {
     "data": {
      "text/plain": [
       "'hello'"
      ]
     },
     "execution_count": 18,
     "metadata": {},
     "output_type": "execute_result"
    }
   ],
   "source": [
    "def simple_func(): #define\n",
    "    print(\"hi\") # logic\n",
    "    print('hello')#2\n",
    "    return 'hello'#3 manupulation\n",
    "                  #return computed \n",
    "                  #logic.......\n",
    "simple_func()"
   ]
  },
  {
   "cell_type": "code",
   "execution_count": 19,
   "id": "b0fd4e03",
   "metadata": {},
   "outputs": [
    {
     "data": {
      "text/plain": [
       "function"
      ]
     },
     "execution_count": 19,
     "metadata": {},
     "output_type": "execute_result"
    }
   ],
   "source": [
    "type(simple_func)"
   ]
  },
  {
   "cell_type": "code",
   "execution_count": 20,
   "id": "6c0504e7",
   "metadata": {},
   "outputs": [],
   "source": [
    "def simple_generator():\n",
    "    print(\"hi\")\n",
    "    yield 'Hello'\n",
    "    x=10\n",
    "    y=x+5\n",
    "    print(y)\n",
    "    yield \"Hello World\"\n",
    "    yield x\n",
    "    "
   ]
  },
  {
   "cell_type": "code",
   "execution_count": 29,
   "id": "595cd3b3",
   "metadata": {},
   "outputs": [
    {
     "data": {
      "text/plain": [
       "<generator object simple_generator at 0x000001D8C71DC3C0>"
      ]
     },
     "execution_count": 29,
     "metadata": {},
     "output_type": "execute_result"
    }
   ],
   "source": [
    "ret=simple_generator()\n",
    "ret"
   ]
  },
  {
   "cell_type": "code",
   "execution_count": 22,
   "id": "bdb5ae0f",
   "metadata": {},
   "outputs": [
    {
     "name": "stdout",
     "output_type": "stream",
     "text": [
      "hi\n",
      "Hello\n",
      "15\n",
      "Hello World\n",
      "10\n"
     ]
    }
   ],
   "source": [
    "for val in ret:\n",
    "    print(val)"
   ]
  },
  {
   "cell_type": "code",
   "execution_count": 25,
   "id": "b4e4543a",
   "metadata": {},
   "outputs": [
    {
     "name": "stdout",
     "output_type": "stream",
     "text": [
      "hi\n",
      "15\n"
     ]
    },
    {
     "data": {
      "text/plain": [
       "['Hello', 'Hello World', 10]"
      ]
     },
     "execution_count": 25,
     "metadata": {},
     "output_type": "execute_result"
    }
   ],
   "source": [
    "list(ret)"
   ]
  },
  {
   "cell_type": "code",
   "execution_count": 31,
   "id": "349a4e8f",
   "metadata": {},
   "outputs": [
    {
     "name": "stdout",
     "output_type": "stream",
     "text": [
      "15\n"
     ]
    },
    {
     "data": {
      "text/plain": [
       "'Hello World'"
      ]
     },
     "execution_count": 31,
     "metadata": {},
     "output_type": "execute_result"
    }
   ],
   "source": [
    "next(ret)"
   ]
  },
  {
   "cell_type": "code",
   "execution_count": 32,
   "id": "dd79ae95",
   "metadata": {},
   "outputs": [
    {
     "data": {
      "text/plain": [
       "10"
      ]
     },
     "execution_count": 32,
     "metadata": {},
     "output_type": "execute_result"
    }
   ],
   "source": [
    "next(ret)"
   ]
  },
  {
   "cell_type": "code",
   "execution_count": 33,
   "id": "1d3465a9",
   "metadata": {},
   "outputs": [
    {
     "ename": "StopIteration",
     "evalue": "",
     "output_type": "error",
     "traceback": [
      "\u001b[1;31m---------------------------------------------------------------------------\u001b[0m",
      "\u001b[1;31mStopIteration\u001b[0m                             Traceback (most recent call last)",
      "\u001b[1;32mC:\\Users\\PRITIG~1\\AppData\\Local\\Temp/ipykernel_10784/167560125.py\u001b[0m in \u001b[0;36m<module>\u001b[1;34m\u001b[0m\n\u001b[1;32m----> 1\u001b[1;33m \u001b[0mnext\u001b[0m\u001b[1;33m(\u001b[0m\u001b[0mret\u001b[0m\u001b[1;33m)\u001b[0m\u001b[1;33m\u001b[0m\u001b[1;33m\u001b[0m\u001b[0m\n\u001b[0m",
      "\u001b[1;31mStopIteration\u001b[0m: "
     ]
    }
   ],
   "source": [
    "next(ret)"
   ]
  },
  {
   "cell_type": "code",
   "execution_count": 34,
   "id": "9f28b639",
   "metadata": {},
   "outputs": [],
   "source": [
    "def fib(n):\n",
    "    numbers=[]\n",
    "    first,second=0,1\n",
    "    while first < n:\n",
    "        numbers.append(first)\n",
    "        first,second=second,first+second\n",
    "    print(numbers)"
   ]
  },
  {
   "cell_type": "code",
   "execution_count": 36,
   "id": "0b1c6fff",
   "metadata": {},
   "outputs": [
    {
     "name": "stdout",
     "output_type": "stream",
     "text": [
      "[0, 1, 1, 2, 3, 5, 8, 13, 21, 34, 55, 89, 144, 233, 377, 610, 987, 1597, 2584, 4181, 6765, 10946, 17711, 28657, 46368, 75025, 121393, 196418, 317811, 514229, 832040, 1346269, 2178309, 3524578, 5702887, 9227465, 14930352, 24157817, 39088169, 63245986, 102334155, 165580141, 267914296, 433494437, 701408733, 1134903170, 1836311903, 2971215073, 4807526976, 7778742049, 12586269025, 20365011074, 32951280099, 53316291173, 86267571272, 139583862445, 225851433717, 365435296162, 591286729879, 956722026041, 1548008755920, 2504730781961, 4052739537881, 6557470319842, 10610209857723, 17167680177565, 27777890035288, 44945570212853, 72723460248141]\n"
     ]
    }
   ],
   "source": [
    "fib(100000000000000)"
   ]
  },
  {
   "cell_type": "code",
   "execution_count": null,
   "id": "6e40d906",
   "metadata": {},
   "outputs": [],
   "source": [
    "def fib(n):\n",
    "    first, second =0,1\n",
    "    while n:\n",
    "        yield first"
   ]
  },
  {
   "cell_type": "code",
   "execution_count": 45,
   "id": "4b95aabb",
   "metadata": {},
   "outputs": [],
   "source": [
    "import random\n",
    "name=[\"priti\",\"john\",\"ali\",\"fred\"]\n",
    "designations=[\"mgr\",\"se\",\"sse\",\"admin\",\"hr\",\"fin\"]\n",
    "def people_list():\n",
    "    people=[]\n",
    "    for i in range[1000000]:\n",
    "        person={\"id\":i,\"name\":random.choice(name),\"designations\":random.choice(designations)}\n",
    "        people.append(person)\n",
    "    return people\n",
    "def people_generator():\n",
    "    for i in range(1000000):\n",
    "        person={\"id\":i,\"name\":random.choice(name),\"designations\":random.choice(designations)}\n",
    "        yield person"
   ]
  },
  {
   "cell_type": "code",
   "execution_count": 46,
   "id": "289e961a",
   "metadata": {},
   "outputs": [
    {
     "ename": "TypeError",
     "evalue": "'type' object is not subscriptable",
     "output_type": "error",
     "traceback": [
      "\u001b[1;31m---------------------------------------------------------------------------\u001b[0m",
      "\u001b[1;31mTypeError\u001b[0m                                 Traceback (most recent call last)",
      "\u001b[1;32mC:\\Users\\PRITIG~1\\AppData\\Local\\Temp/ipykernel_10784/4189195858.py\u001b[0m in \u001b[0;36m<module>\u001b[1;34m\u001b[0m\n\u001b[1;32m----> 1\u001b[1;33m \u001b[0mp\u001b[0m\u001b[1;33m=\u001b[0m\u001b[0mpeople_list\u001b[0m\u001b[1;33m(\u001b[0m\u001b[1;33m)\u001b[0m\u001b[1;33m\u001b[0m\u001b[1;33m\u001b[0m\u001b[0m\n\u001b[0m\u001b[0;32m      2\u001b[0m \u001b[0mp\u001b[0m\u001b[1;33m[\u001b[0m\u001b[1;33m:\u001b[0m\u001b[1;33m:\u001b[0m\u001b[1;36m2\u001b[0m\u001b[1;33m]\u001b[0m\u001b[1;33m\u001b[0m\u001b[1;33m\u001b[0m\u001b[0m\n",
      "\u001b[1;32mC:\\Users\\PRITIG~1\\AppData\\Local\\Temp/ipykernel_10784/3995441596.py\u001b[0m in \u001b[0;36mpeople_list\u001b[1;34m()\u001b[0m\n\u001b[0;32m      4\u001b[0m \u001b[1;32mdef\u001b[0m \u001b[0mpeople_list\u001b[0m\u001b[1;33m(\u001b[0m\u001b[1;33m)\u001b[0m\u001b[1;33m:\u001b[0m\u001b[1;33m\u001b[0m\u001b[1;33m\u001b[0m\u001b[0m\n\u001b[0;32m      5\u001b[0m     \u001b[0mpeople\u001b[0m\u001b[1;33m=\u001b[0m\u001b[1;33m[\u001b[0m\u001b[1;33m]\u001b[0m\u001b[1;33m\u001b[0m\u001b[1;33m\u001b[0m\u001b[0m\n\u001b[1;32m----> 6\u001b[1;33m     \u001b[1;32mfor\u001b[0m \u001b[0mi\u001b[0m \u001b[1;32min\u001b[0m \u001b[0mrange\u001b[0m\u001b[1;33m[\u001b[0m\u001b[1;36m1000000\u001b[0m\u001b[1;33m]\u001b[0m\u001b[1;33m:\u001b[0m\u001b[1;33m\u001b[0m\u001b[1;33m\u001b[0m\u001b[0m\n\u001b[0m\u001b[0;32m      7\u001b[0m         \u001b[0mperson\u001b[0m\u001b[1;33m=\u001b[0m\u001b[1;33m{\u001b[0m\u001b[1;34m\"id\"\u001b[0m\u001b[1;33m:\u001b[0m\u001b[0mi\u001b[0m\u001b[1;33m,\u001b[0m\u001b[1;34m\"name\"\u001b[0m\u001b[1;33m:\u001b[0m\u001b[0mrandom\u001b[0m\u001b[1;33m.\u001b[0m\u001b[0mchoice\u001b[0m\u001b[1;33m(\u001b[0m\u001b[0mname\u001b[0m\u001b[1;33m)\u001b[0m\u001b[1;33m,\u001b[0m\u001b[1;34m\"designations\"\u001b[0m\u001b[1;33m:\u001b[0m\u001b[0mrandom\u001b[0m\u001b[1;33m.\u001b[0m\u001b[0mchoice\u001b[0m\u001b[1;33m(\u001b[0m\u001b[0mdesignations\u001b[0m\u001b[1;33m)\u001b[0m\u001b[1;33m}\u001b[0m\u001b[1;33m\u001b[0m\u001b[1;33m\u001b[0m\u001b[0m\n\u001b[0;32m      8\u001b[0m         \u001b[0mpeople\u001b[0m\u001b[1;33m.\u001b[0m\u001b[0mappend\u001b[0m\u001b[1;33m(\u001b[0m\u001b[0mperson\u001b[0m\u001b[1;33m)\u001b[0m\u001b[1;33m\u001b[0m\u001b[1;33m\u001b[0m\u001b[0m\n",
      "\u001b[1;31mTypeError\u001b[0m: 'type' object is not subscriptable"
     ]
    }
   ],
   "source": [
    "p=people_list()\n",
    "p[::2]"
   ]
  },
  {
   "cell_type": "code",
   "execution_count": 56,
   "id": "9aa12341",
   "metadata": {},
   "outputs": [],
   "source": [
    "def countdown(n):\n",
    "    print(\"starting to count from \", n )\n",
    "    while n>0:\n",
    "        yield n\n",
    "        n-=1\n",
    "    print(\"done\")\n",
    "    "
   ]
  },
  {
   "cell_type": "code",
   "execution_count": 57,
   "id": "ffc9ba46",
   "metadata": {},
   "outputs": [],
   "source": [
    "c=countdown(3)"
   ]
  },
  {
   "cell_type": "code",
   "execution_count": 51,
   "id": "ed5d9fde",
   "metadata": {},
   "outputs": [
    {
     "name": "stdout",
     "output_type": "stream",
     "text": [
      "starting to count from  3\n"
     ]
    },
    {
     "data": {
      "text/plain": [
       "3"
      ]
     },
     "execution_count": 51,
     "metadata": {},
     "output_type": "execute_result"
    }
   ],
   "source": [
    "next(c)"
   ]
  },
  {
   "cell_type": "code",
   "execution_count": 52,
   "id": "66b92841",
   "metadata": {},
   "outputs": [
    {
     "data": {
      "text/plain": [
       "2"
      ]
     },
     "execution_count": 52,
     "metadata": {},
     "output_type": "execute_result"
    }
   ],
   "source": [
    "next(c)"
   ]
  },
  {
   "cell_type": "code",
   "execution_count": 53,
   "id": "d1926393",
   "metadata": {},
   "outputs": [
    {
     "data": {
      "text/plain": [
       "1"
      ]
     },
     "execution_count": 53,
     "metadata": {},
     "output_type": "execute_result"
    }
   ],
   "source": [
    "next(c)"
   ]
  },
  {
   "cell_type": "code",
   "execution_count": 54,
   "id": "7cfe7dab",
   "metadata": {},
   "outputs": [
    {
     "name": "stdout",
     "output_type": "stream",
     "text": [
      "done\n"
     ]
    },
    {
     "ename": "StopIteration",
     "evalue": "",
     "output_type": "error",
     "traceback": [
      "\u001b[1;31m---------------------------------------------------------------------------\u001b[0m",
      "\u001b[1;31mStopIteration\u001b[0m                             Traceback (most recent call last)",
      "\u001b[1;32mC:\\Users\\PRITIG~1\\AppData\\Local\\Temp/ipykernel_10784/1173204873.py\u001b[0m in \u001b[0;36m<module>\u001b[1;34m\u001b[0m\n\u001b[1;32m----> 1\u001b[1;33m \u001b[0mnext\u001b[0m\u001b[1;33m(\u001b[0m\u001b[0mc\u001b[0m\u001b[1;33m)\u001b[0m\u001b[1;33m\u001b[0m\u001b[1;33m\u001b[0m\u001b[0m\n\u001b[0m",
      "\u001b[1;31mStopIteration\u001b[0m: "
     ]
    }
   ],
   "source": [
    "next(c)"
   ]
  },
  {
   "cell_type": "code",
   "execution_count": 58,
   "id": "3e3f7945",
   "metadata": {},
   "outputs": [
    {
     "name": "stdout",
     "output_type": "stream",
     "text": [
      "starting to count from  3\n",
      "done\n"
     ]
    },
    {
     "data": {
      "text/plain": [
       "[3, 2, 1]"
      ]
     },
     "execution_count": 58,
     "metadata": {},
     "output_type": "execute_result"
    }
   ],
   "source": [
    "list(c)"
   ]
  },
  {
   "cell_type": "code",
   "execution_count": 60,
   "id": "6f7fef62",
   "metadata": {},
   "outputs": [
    {
     "name": "stdout",
     "output_type": "stream",
     "text": [
      "5\n",
      "4\n",
      "3\n",
      "2\n",
      "1\n"
     ]
    }
   ],
   "source": [
    "a=[1,2,3,4,5]\n",
    "for x in reversed(a):\n",
    "    print(x)"
   ]
  },
  {
   "cell_type": "code",
   "execution_count": 61,
   "id": "2007fce6",
   "metadata": {},
   "outputs": [
    {
     "name": "stdout",
     "output_type": "stream",
     "text": [
      "('a', 'b', 'c')\n",
      "('a', 'c', 'b')\n",
      "('b', 'a', 'c')\n",
      "('b', 'c', 'a')\n",
      "('c', 'a', 'b')\n",
      "('c', 'b', 'a')\n"
     ]
    }
   ],
   "source": [
    "#assignment wap to calculate permutations and combiation of below list\n",
    "items=['a','b','c']\n",
    "from itertools import permutations\n",
    "for p in permutations(items):\n",
    "    print(p)"
   ]
  },
  {
   "cell_type": "code",
   "execution_count": 62,
   "id": "4e38df59",
   "metadata": {},
   "outputs": [
    {
     "name": "stdout",
     "output_type": "stream",
     "text": [
      "('a', 'b', 'c')\n"
     ]
    }
   ],
   "source": [
    "from itertools import combinations\n",
    "for c in combinations(items,3):\n",
    "    print(c)"
   ]
  },
  {
   "cell_type": "code",
   "execution_count": 63,
   "id": "38cf9445",
   "metadata": {},
   "outputs": [
    {
     "name": "stdout",
     "output_type": "stream",
     "text": [
      "('a', 'b')\n",
      "('a', 'c')\n",
      "('b', 'c')\n"
     ]
    }
   ],
   "source": [
    "from itertools import combinations\n",
    "for c in combinations(items,2):\n",
    "    print(c)"
   ]
  },
  {
   "cell_type": "code",
   "execution_count": 64,
   "id": "37760ae8",
   "metadata": {},
   "outputs": [
    {
     "name": "stdout",
     "output_type": "stream",
     "text": [
      "('a',)\n",
      "('b',)\n",
      "('c',)\n"
     ]
    }
   ],
   "source": [
    "from itertools import combinations\n",
    "for c in combinations(items,1):\n",
    "    print(c)"
   ]
  },
  {
   "cell_type": "code",
   "execution_count": 4,
   "id": "2b46c459",
   "metadata": {},
   "outputs": [],
   "source": [
    "#write chunk of text data\n",
    "with open(\"somefile.txt\",\"wt\") as f:\n",
    "    f.write(\"hi\")\n",
    "    f.write(\"hello\")"
   ]
  },
  {
   "cell_type": "code",
   "execution_count": 5,
   "id": "bc8f5dd1",
   "metadata": {},
   "outputs": [
    {
     "ename": "ValueError",
     "evalue": "I/O operation on closed file.",
     "output_type": "error",
     "traceback": [
      "\u001b[1;31m---------------------------------------------------------------------------\u001b[0m",
      "\u001b[1;31mValueError\u001b[0m                                Traceback (most recent call last)",
      "\u001b[1;32mC:\\Users\\PRITIG~1\\AppData\\Local\\Temp/ipykernel_9532/2412495899.py\u001b[0m in \u001b[0;36m<module>\u001b[1;34m\u001b[0m\n\u001b[1;32m----> 1\u001b[1;33m \u001b[0mf\u001b[0m\u001b[1;33m.\u001b[0m\u001b[0mread\u001b[0m\u001b[1;33m(\u001b[0m\u001b[1;33m)\u001b[0m\u001b[1;33m\u001b[0m\u001b[1;33m\u001b[0m\u001b[0m\n\u001b[0m\u001b[0;32m      2\u001b[0m \u001b[0mf\u001b[0m\u001b[1;33m.\u001b[0m\u001b[0mclose\u001b[0m\u001b[1;33m(\u001b[0m\u001b[1;33m)\u001b[0m\u001b[1;33m\u001b[0m\u001b[1;33m\u001b[0m\u001b[0m\n",
      "\u001b[1;31mValueError\u001b[0m: I/O operation on closed file."
     ]
    }
   ],
   "source": [
    "f.read()\n",
    "f.close()"
   ]
  },
  {
   "cell_type": "code",
   "execution_count": null,
   "id": "2948958a",
   "metadata": {},
   "outputs": [],
   "source": []
  },
  {
   "cell_type": "code",
   "execution_count": null,
   "id": "86b096fb",
   "metadata": {},
   "outputs": [],
   "source": []
  },
  {
   "cell_type": "code",
   "execution_count": null,
   "id": "0b2b9804",
   "metadata": {},
   "outputs": [],
   "source": []
  },
  {
   "cell_type": "code",
   "execution_count": null,
   "id": "974c5650",
   "metadata": {},
   "outputs": [],
   "source": []
  },
  {
   "cell_type": "code",
   "execution_count": null,
   "id": "58816d52",
   "metadata": {},
   "outputs": [],
   "source": []
  },
  {
   "cell_type": "code",
   "execution_count": null,
   "id": "73e29f57",
   "metadata": {},
   "outputs": [],
   "source": []
  },
  {
   "cell_type": "code",
   "execution_count": null,
   "id": "9b2c845a",
   "metadata": {},
   "outputs": [],
   "source": []
  }
 ],
 "metadata": {
  "kernelspec": {
   "display_name": "Python 3 (ipykernel)",
   "language": "python",
   "name": "python3"
  },
  "language_info": {
   "codemirror_mode": {
    "name": "ipython",
    "version": 3
   },
   "file_extension": ".py",
   "mimetype": "text/x-python",
   "name": "python",
   "nbconvert_exporter": "python",
   "pygments_lexer": "ipython3",
   "version": "3.9.5"
  }
 },
 "nbformat": 4,
 "nbformat_minor": 5
}
